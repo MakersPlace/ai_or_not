{
 "cells": [
  {
   "cell_type": "code",
   "execution_count": null,
   "metadata": {},
   "outputs": [],
   "source": [
    "import os\n",
    "\n",
    "import huggingface_hub\n",
    "import numpy as np\n",
    "import tensorflow as tf\n",
    "from PIL import Image\n",
    "from transformers import AutoProcessor, TFCLIPVisionModel\n",
    "\n",
    "MODEL_NAME = \"openai/clip-vit-base-patch32\"\n",
    "CACHE_DIR = \"/tmp\"\n",
    "IMAGES_FOLDER = \"./examples\""
   ]
  },
  {
   "cell_type": "code",
   "execution_count": null,
   "metadata": {},
   "outputs": [],
   "source": [
    "processor = AutoProcessor.from_pretrained(\n",
    "    MODEL_NAME,\n",
    "    cache_dir=CACHE_DIR,\n",
    ")"
   ]
  },
  {
   "cell_type": "code",
   "execution_count": null,
   "metadata": {},
   "outputs": [],
   "source": [
    "model = TFCLIPVisionModel.from_pretrained(\n",
    "    MODEL_NAME,\n",
    "    cache_dir=CACHE_DIR,\n",
    ")"
   ]
  },
  {
   "cell_type": "code",
   "execution_count": null,
   "metadata": {},
   "outputs": [],
   "source": []
  },
  {
   "cell_type": "code",
   "execution_count": null,
   "metadata": {},
   "outputs": [],
   "source": [
    "test_files = [\n",
    "    os.path.join(IMAGES_FOLDER, f) for f in os.listdir(IMAGES_FOLDER) if os.path.isfile(os.path.join(IMAGES_FOLDER, f))\n",
    "]\n",
    "test_files"
   ]
  },
  {
   "cell_type": "code",
   "execution_count": null,
   "metadata": {},
   "outputs": [],
   "source": [
    "for file in test_files:\n",
    "    image = Image.open(file).convert(\"RGB\")\n",
    "    inputs = processor(images=image, return_tensors=\"tf\")\n",
    "    print(f\"Inputs Size: {inputs['pixel_values'].shape}  file: {file}\")\n",
    "    # inputs is of shape (1, 3, 224, 224) for the model\n",
    "    # convert to shape (1, 224, 224, 3)\n",
    "    # inputs[\"pixel_values\"] = tf.transpose(inputs[\"pixel_values\"], perm=[0, 2, 3, 1])\n",
    "    print(f\"Transpose: {inputs['pixel_values'].shape}\")\n",
    "    outputs = model(**inputs)\n",
    "    pooled_output = outputs.last_hidden_state\n",
    "\n",
    "    print(f\"Embeddings Size: {pooled_output.shape} \")"
   ]
  },
  {
   "cell_type": "code",
   "execution_count": null,
   "metadata": {},
   "outputs": [],
   "source": []
  }
 ],
 "metadata": {
  "kernelspec": {
   "display_name": "discovery_env",
   "language": "python",
   "name": "python3"
  },
  "language_info": {
   "codemirror_mode": {
    "name": "ipython",
    "version": 3
   },
   "file_extension": ".py",
   "mimetype": "text/x-python",
   "name": "python",
   "nbconvert_exporter": "python",
   "pygments_lexer": "ipython3",
   "version": "3.10.9"
  }
 },
 "nbformat": 4,
 "nbformat_minor": 2
}
