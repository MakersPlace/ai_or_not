{
 "cells": [
  {
   "cell_type": "code",
   "execution_count": null,
   "metadata": {},
   "outputs": [],
   "source": [
    "# ! pip install datasets\n",
    "# ! pip install huggingface_hub"
   ]
  },
  {
   "cell_type": "code",
   "execution_count": null,
   "metadata": {},
   "outputs": [],
   "source": [
    "import random\n",
    "import shutil\n",
    "from pathlib import Path\n",
    "\n",
    "from datasets import load_dataset, load_from_disk\n",
    "from huggingface_hub import login"
   ]
  },
  {
   "cell_type": "code",
   "execution_count": null,
   "metadata": {},
   "outputs": [],
   "source": [
    "# aiornot_path = Path(\"../cache/data/aiornot\")\n",
    "# aiornot_train_path = aiornot_path / \"train\"\n",
    "# aiornot_test_path = aiornot_path / \"test\"\n",
    "\n",
    "# # delete directory recursively if already exists\n",
    "# if aiornot_path.exists():\n",
    "#     shutil.rmtree(aiornot_path)"
   ]
  },
  {
   "cell_type": "code",
   "execution_count": null,
   "metadata": {},
   "outputs": [],
   "source": [
    "# aiornot_ds = load_dataset(\"competitions/aiornot\")\n",
    "\n",
    "\n",
    "# # save train data\n",
    "# aiornot_ds.save_to_disk(aiornot_path)"
   ]
  },
  {
   "cell_type": "code",
   "execution_count": null,
   "metadata": {},
   "outputs": [],
   "source": [
    "# aiornot_train_ds = load_from_disk(dataset_path=aiornot_train_path)\n",
    "# print split names\n",
    "# print(read_aiornot.keys())"
   ]
  },
  {
   "cell_type": "code",
   "execution_count": null,
   "metadata": {},
   "outputs": [],
   "source": [
    "# read train split and create tensorflow dataset\n",
    "# aiornot_train_ds = read_aiornot['train']\n",
    "# aiornot_test_ds = read_aiornot['test']\n",
    "\n",
    "# convert to tensorflow dataset\n",
    "# aiornot_train_ds = aiornot_train_ds.to_tf_dataset(\n",
    "#     columns=\"image\",\n",
    "#     label_cols=\"label\",\n",
    "# )\n",
    "\n",
    "# # print first 5 examples\n",
    "# aiornot_train_ds = aiornot_train_ds.take(5)\n",
    "# for example in aiornot_train_ds:\n",
    "#     print(example)"
   ]
  },
  {
   "cell_type": "code",
   "execution_count": null,
   "metadata": {},
   "outputs": [],
   "source": [
    "# write a funciton to read a directory of images and split it into train and test directories with 80-20 split\n",
    "\n",
    "\n",
    "def split_train_test_images(image_dir, train_dir, test_dir, split_ratio=0.8):\n",
    "    # create train and test directories\n",
    "    train_dir.mkdir(parents=True, exist_ok=True)\n",
    "    test_dir.mkdir(parents=True, exist_ok=True)\n",
    "\n",
    "    # get list of images in image_dir\n",
    "    image_paths = list(image_dir.glob(\"*.png\"))\n",
    "\n",
    "    # shuffle the image paths\n",
    "    random.shuffle(image_paths)\n",
    "\n",
    "    # split the image paths into train and test\n",
    "    train_image_paths = image_paths[: int(len(image_paths) * split_ratio)]\n",
    "    test_image_paths = image_paths[int(len(image_paths) * split_ratio) :]\n",
    "\n",
    "    # copy images to train and test directories\n",
    "    for image_path in train_image_paths:\n",
    "        shutil.copy(image_path, train_dir / image_path.name)\n",
    "\n",
    "    for image_path in test_image_paths:\n",
    "        shutil.copy(image_path, test_dir / image_path.name)\n",
    "\n",
    "\n",
    "directory = Path(\n",
    "    \"/Users/skoneru/workspace/discovery/playground/ai_or_not/cache/data/FakeImageDataset/ImageData/train/SDv15R-CC1M/SDv15R-dpmsolver-25-1M\"\n",
    ")\n",
    "dir_name = \"SDv15R-CC1M\"\n",
    "directory_path = directory / dir_name\n",
    "train_dir = directory / f\"{dir_name}_train\"\n",
    "test_dir = directory / f\"{dir_name}_test\"\n",
    "split_train_test_images(\n",
    "    image_dir=directory_path,\n",
    "    train_dir=train_dir,\n",
    "    test_dir=test_dir,\n",
    "    split_ratio=0.8,\n",
    ")"
   ]
  }
 ],
 "metadata": {
  "kernelspec": {
   "display_name": "discovery_env",
   "language": "python",
   "name": "python3"
  },
  "language_info": {
   "codemirror_mode": {
    "name": "ipython",
    "version": 3
   },
   "file_extension": ".py",
   "mimetype": "text/x-python",
   "name": "python",
   "nbconvert_exporter": "python",
   "pygments_lexer": "ipython3",
   "version": "3.10.9"
  }
 },
 "nbformat": 4,
 "nbformat_minor": 2
}
