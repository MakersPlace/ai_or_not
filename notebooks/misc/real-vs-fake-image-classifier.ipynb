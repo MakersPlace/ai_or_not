{
 "cells": [
  {
   "cell_type": "markdown",
   "metadata": {},
   "source": [
    "# Importing necessary Libraries"
   ]
  },
  {
   "cell_type": "code",
   "execution_count": null,
   "metadata": {
    "execution": {
     "iopub.execute_input": "2023-09-09T02:16:35.077597Z",
     "iopub.status.busy": "2023-09-09T02:16:35.076805Z",
     "iopub.status.idle": "2023-09-09T02:16:43.964860Z",
     "shell.execute_reply": "2023-09-09T02:16:43.963905Z",
     "shell.execute_reply.started": "2023-09-09T02:16:35.077562Z"
    }
   },
   "outputs": [],
   "source": [
    "import os\n",
    "import shutil\n",
    "from datetime import datetime\n",
    "from pathlib import Path\n",
    "\n",
    "import matplotlib.pyplot as plt\n",
    "import numpy as np\n",
    "import pandas as pd\n",
    "import tensorflow as tf\n",
    "from datasets import load_from_disk\n",
    "from IPython.display import Image\n",
    "from tensorflow.keras.callbacks import EarlyStopping, ModelCheckpoint, ReduceLROnPlateau\n",
    "from tensorflow.keras.layers import (\n",
    "    BatchNormalization,\n",
    "    Conv2D,\n",
    "    Dense,\n",
    "    Dropout,\n",
    "    GlobalAveragePooling2D,\n",
    "    Input,\n",
    "    InputLayer,\n",
    "    MaxPool2D,\n",
    ")\n",
    "from tensorflow.keras.losses import BinaryCrossentropy\n",
    "from tensorflow.keras.metrics import BinaryAccuracy, Precision, Recall\n",
    "from tensorflow.keras.optimizers import Adam\n",
    "from tensorflow.keras.regularizers import L2\n",
    "from tensorflow.keras.utils import plot_model\n",
    "from wandb.keras import WandbCallback\n",
    "\n",
    "import wandb"
   ]
  },
  {
   "cell_type": "code",
   "execution_count": null,
   "metadata": {},
   "outputs": [],
   "source": [
    "# ! pip install wandb\n",
    "# ! pip install pydot\n",
    "# ! pip install graphviz\n",
    "\n",
    "PROJECT_SUFFIX = \"5_datasets_v2\"\n",
    "ENTITY = \"makersplace\"\n",
    "PROJECT = f\"ai-or-not-{PROJECT_SUFFIX}\"\n",
    "SEED = 77\n",
    "RUNTIME_DATE_SUFFIX = \"%m%d_%H%M\"\n",
    "\n",
    "# current time\n",
    "JOB_TYPE_SUFFIX = f\"{PROJECT_SUFFIX}_cat\"\n",
    "RUN_NAME_SUFFIX = datetime.now().strftime(RUNTIME_DATE_SUFFIX)\n",
    "\n",
    "\n",
    "# Datasets Paths\n",
    "training_dataset_path = \"../cache/data/training_dataset\"\n",
    "validation_dataset_path = \"../cache/data/validation_dataset\"\n",
    "\n",
    "# Model Paths\n",
    "cnn_model_path = Path(f\"../cache/models/{JOB_TYPE_SUFFIX}/cnn_{RUN_NAME_SUFFIX}\")\n",
    "effv2_model_dir_path = Path(f\"../cache/models/{JOB_TYPE_SUFFIX}/en2s_{RUN_NAME_SUFFIX}\")\n",
    "\n",
    "\n",
    "# Deleted and recreated training and validation dataset folders\n",
    "CLEAN_RUN = True\n",
    "\n",
    "\n",
    "np.random.seed(SEED)\n",
    "tf.random.set_seed(SEED)\n",
    "\n",
    "# ENVIRONMENT VARIABLES\n",
    "os.environ[\"WANDB_API_KEY\"] = \"d13afab09b400fc9d606e612d806a4b0740790fd\""
   ]
  },
  {
   "cell_type": "markdown",
   "metadata": {},
   "source": [
    "# DataSet Creation"
   ]
  },
  {
   "cell_type": "markdown",
   "metadata": {},
   "source": [
    "#### Importing datasets and storing them in train and validation dataset"
   ]
  },
  {
   "cell_type": "code",
   "execution_count": null,
   "metadata": {
    "execution": {
     "iopub.execute_input": "2023-09-09T02:16:43.966509Z",
     "iopub.status.busy": "2023-09-09T02:16:43.966178Z",
     "iopub.status.idle": "2023-09-09T02:16:43.972368Z",
     "shell.execute_reply": "2023-09-09T02:16:43.971358Z",
     "shell.execute_reply.started": "2023-09-09T02:16:43.966476Z"
    }
   },
   "outputs": [],
   "source": [
    "dire_train_imagenet_directory = \"../cache/data/DIRE/train/imagenet\"\n",
    "dire_train_celebahq_directory = \"../cache/data/DIRE/train/celebahq\"\n",
    "dire_train_lsun_bedroom_directory = \"../cache/data/DIRE/train/lsun_bedroom\"\n",
    "\n",
    "cifake_train_directory = \"../cache/data/cifake/train\"\n",
    "\n",
    "dire_validation_imagenet_directory = \"../cache/data/DIRE/val/imagenet/\"\n",
    "dire_validation_lsun_bedroom_directory = \"../cache/data/DIRE/val/lsun_bedroom/\"\n",
    "\n",
    "DIRE_IMAGENET_CLASS_NAMES = [\"real\", \"adm\"]\n",
    "DIRE_CELEBAHQ_CLASS_NAMES = [\"real\", \"sdv2\"]\n",
    "DIRE_LSUN_BEDROOM_CLASS_NAMES = [\"real\", \"adm\", \"iddpm\", \"pndm\", \"stylegan\"]\n",
    "CIFAKE_CLASS_NAMES = [\"REAL\", \"FAKE\"]\n",
    "\n",
    "CLASS_NAMES = [\"REAL\", \"FAKE\"]\n",
    "\n",
    "NUM_SHARDS = 5\n",
    "SHARD_INDEX = 1\n",
    "IMAGE_RESOLUTION = 128\n",
    "EPOCHS = 10\n",
    "\n",
    "CONFIGURATION = {\n",
    "    \"BATCH_SIZE\": 32,\n",
    "    \"IM_SIZE\": IMAGE_RESOLUTION,\n",
    "    \"DROPOUT_RATE\": 0.1,\n",
    "    \"N_EPOCHS\": EPOCHS,\n",
    "    \"REGULARIZATION_RATE\": 0.001,\n",
    "    \"N_FILTERS\": 6,\n",
    "    \"KERNEL_SIZE\": 3,\n",
    "    \"N_STRIDES\": 1,\n",
    "    \"POOL_SIZE\": 2,\n",
    "    \"N_DENSE_1\": 1024,\n",
    "    \"N_DENSE_2\": 128,\n",
    "    \"NUM_CLASSES\": 2,\n",
    "    \"LEARNING_RATE\": 0.0001,\n",
    "}"
   ]
  },
  {
   "cell_type": "code",
   "execution_count": null,
   "metadata": {},
   "outputs": [],
   "source": [
    "def resize_image(image):\n",
    "    image = tf.image.resize_with_pad(\n",
    "        image=image,\n",
    "        target_height=CONFIGURATION[\"IM_SIZE\"],\n",
    "        target_width=CONFIGURATION[\"IM_SIZE\"],\n",
    "    )\n",
    "    # divide by 255 to normalize\n",
    "    image = image / 255.0\n",
    "    return image\n",
    "\n",
    "\n",
    "def decode_img(img):\n",
    "    img = tf.io.decode_image(img, channels=3)\n",
    "    return resize_image(img)\n",
    "\n",
    "\n",
    "def process_path(file_path):\n",
    "    # Load the raw data from the file as a string\n",
    "    img = tf.io.read_file(file_path)\n",
    "    img = decode_img(img)\n",
    "    return img\n",
    "\n",
    "\n",
    "def print_dataset_summary(dataset, directory):\n",
    "    print(f\"************ Dataset summary ************\")\n",
    "    print(f\"Directory: {directory}\")\n",
    "    print(f\"Class names: {dataset.class_names}\")\n",
    "    print(f\"File count: {len(dataset.file_paths)}\")\n",
    "\n",
    "\n",
    "def visualize_dataset(samples):\n",
    "    plt.figure(figsize=(12, 12))\n",
    "    index = 1\n",
    "    for image, label in samples:\n",
    "        plt.subplot(4, 4, index)\n",
    "        plt.imshow(image)\n",
    "        title = CLASS_NAMES[int(label)]\n",
    "        plt.title(title)\n",
    "        plt.axis(\"off\")\n",
    "        index += 1\n",
    "\n",
    "    plt.show()\n",
    "\n",
    "\n",
    "def get_custom_dataset(directory, label, pattern):\n",
    "    # if directory path contains 'aiornot' load it as tf dataset else load it as a custom dataset\n",
    "    if \"aiornot\" in directory:\n",
    "        read_aiornot = load_from_disk(dataset_path=directory)\n",
    "        dataset = read_aiornot.to_tf_dataset(\n",
    "            columns=\"image\",\n",
    "            label_cols=\"label\",\n",
    "        )\n",
    "        dataset = dataset.map(lambda x, y: (tf.cast(x, tf.float32), tf.cast(y, tf.float32)))\n",
    "        dataset = dataset.map(lambda x, y: (resize_image(x), y), num_parallel_calls=tf.data.AUTOTUNE)\n",
    "\n",
    "    else:\n",
    "        list_ds = tf.data.Dataset.list_files(str(Path(directory) / pattern), shuffle=True)\n",
    "        dataset = list_ds.map(process_path, num_parallel_calls=tf.data.AUTOTUNE)\n",
    "        dataset = dataset.map(lambda x: (x, label))\n",
    "\n",
    "    return dataset"
   ]
  },
  {
   "cell_type": "markdown",
   "metadata": {},
   "source": [
    "# DataSet Preparation"
   ]
  },
  {
   "cell_type": "code",
   "execution_count": null,
   "metadata": {},
   "outputs": [],
   "source": [
    "DEFAULT_SHARDS = 1\n",
    "REAL_IMAGE_SHARDS = 1\n",
    "train_directories = [\n",
    "    # AI Artbench Dataset\n",
    "    (\"../cache/data/ai-artbench/train/real\", 0.0, \"*/*\", REAL_IMAGE_SHARDS, 0),\n",
    "    (\"../cache/data/ai-artbench/train/AI*\", 1.0, \"*\", DEFAULT_SHARDS, 0),\n",
    "    # CIFAKE Dataset\n",
    "    (\"../cache/data/cifake/train/REAL\", 0.0, \"*\", REAL_IMAGE_SHARDS, 0),\n",
    "    (\"../cache/data/cifake/train/FAKE\", 1.0, \"*\", DEFAULT_SHARDS, 0),\n",
    "    # AIORNOT Dataset\n",
    "    (\"../cache/data/aiornot/train\", 0.0, \"*\", DEFAULT_SHARDS, 0),\n",
    "    # FakeImage Dataset\n",
    "    (\n",
    "        \"../cache/data/FakeImageDataset/ImageData/val/Midjourneyv5-5K/Midjourneyv5-5K_test\",\n",
    "        1.0,\n",
    "        \"*\",\n",
    "        1,\n",
    "        0,\n",
    "    ),\n",
    "    # DIRE Imagenet Dataset\n",
    "    (\"../cache/data/DIRE/train/imagenet/real\", 0.0, \"*/*\", REAL_IMAGE_SHARDS, 0),\n",
    "    (\"../cache/data/DIRE/train/imagenet/adm\", 1.0, \"*/*\", DEFAULT_SHARDS, 0),\n",
    "    # DIRE CelebaHQ Dataset\n",
    "    (\"../cache/data/DIRE/train/celebahq/real\", 0.0, \"*\", 2, 0),\n",
    "    (\"../cache/data/DIRE/train/celebahq/sdv2\", 1.0, \"*/*\", DEFAULT_SHARDS, 0),\n",
    "    # DIRE Lsun Bedroom Dataset\n",
    "    (\"../cache/data/DIRE/train/lsun_bedroom/real\", 0.0, \"*\", REAL_IMAGE_SHARDS, 0),\n",
    "    (\"../cache/data/DIRE/train/lsun_bedroom/stylegan\", 1.0, \"*\", DEFAULT_SHARDS, 0),\n",
    "    # ('../cache/data/DIRE/train/lsun_bedroom/adm', 1.0, '*', 6, 0),\n",
    "    # ('../cache/data/DIRE/train/lsun_bedroom/iddpm', 1.0, '*', 6, 0),\n",
    "    # ('../cache/data/DIRE/train/lsun_bedroom/pndm', 1.0, '*', 6, 0),\n",
    "]"
   ]
  },
  {
   "cell_type": "code",
   "execution_count": null,
   "metadata": {},
   "outputs": [],
   "source": [
    "# Test Directories\n",
    "TEST_SHARDS = 1\n",
    "test_directories = [\n",
    "    # AI Artbench Dataset\n",
    "    (\"../cache/data/ai-artbench/test/AI*\", 1.0, \"*\", TEST_SHARDS, 0),  # 675 Batches\n",
    "    (\"../cache/data/ai-artbench/test/real\", 0.0, \"*/*\", TEST_SHARDS, 0),\n",
    "    # # CIFAKE Dataset\n",
    "    (\"../cache/data/cifake/test/REAL\", 0.0, \"*\", TEST_SHARDS, 0),\n",
    "    (\"../cache/data/cifake/test/FAKE\", 1.0, \"*\", TEST_SHARDS, 0),\n",
    "    # FakeImageDataset\n",
    "    (\n",
    "        \"../cache/data/FakeImageDataset/ImageData/val/Midjourneyv5-5K/Midjourneyv5-5K_test\",\n",
    "        1.0,\n",
    "        \"*\",\n",
    "        TEST_SHARDS,\n",
    "        0,\n",
    "    ),\n",
    "    (\n",
    "        \"../cache/data/FakeImageDataset/ImageData/val/SDv15-CC30K/SDv15-CC30K/\",\n",
    "        1.0,\n",
    "        \"*/*\",\n",
    "        TEST_SHARDS,\n",
    "        0,\n",
    "    ),  # 991 Batches\n",
    "    (\n",
    "        \"../cache/data/FakeImageDataset/ImageData/val/SDv21-CC15K/SDv21-CC15K/SDv2-dpmsolver-25-10K\",\n",
    "        1.0,\n",
    "        \"*\",\n",
    "        TEST_SHARDS,\n",
    "        0,\n",
    "    ),  # 496 Batches\n",
    "    (\n",
    "        \"../cache/data/FakeImageDataset/ImageData/val/cogview2-22K/cogview2-22K\",\n",
    "        1.0,\n",
    "        \"*\",\n",
    "        TEST_SHARDS,\n",
    "        0,\n",
    "    ),  # 698 Batches\n",
    "    # DIRE Imagenet Dataset\n",
    "    (\"../cache/data/DIRE/test/imagenet/real\", 0.0, \"*/*\", TEST_SHARDS, 0),\n",
    "    (\"../cache/data/DIRE/test/imagenet/adm\", 1.0, \"*/*\", TEST_SHARDS, 0),\n",
    "    (\"../cache/data/DIRE/test/imagenet/sdv1\", 1.0, \"*/*\", TEST_SHARDS, 0),\n",
    "    # DIRE Imagenet Dataset\n",
    "    (\"../cache/data/DIRE/test/celebahq/real\", 0.0, \"*\", TEST_SHARDS, 0),\n",
    "    (\"../cache/data/DIRE/test/celebahq/sdv2\", 1.0, \"*\", TEST_SHARDS, 0),\n",
    "    (\"../cache/data/DIRE/test/celebahq/if\", 1.0, \"*\", TEST_SHARDS, 0),\n",
    "    (\"../cache/data/DIRE/test/celebahq/dalle2\", 1.0, \"*\", TEST_SHARDS, 0),\n",
    "    # DIRE Lsun Bedroom Dataset\n",
    "    (\"../cache/data/DIRE/test/lsun_bedroom/dalle2\", 1.0, \"*\", TEST_SHARDS, 0),\n",
    "    (\"../cache/data/DIRE/test/lsun_bedroom/midjourney\", 1.0, \"*\", TEST_SHARDS, 0),\n",
    "    (\"../cache/data/DIRE/test/lsun_bedroom/sdv1_new\", 1.0, \"*\", TEST_SHARDS, 0),\n",
    "    (\"../cache/data/DIRE/test/lsun_bedroom/sdv2\", 1.0, \"*\", TEST_SHARDS, 0),\n",
    "    (\"../cache/data/DIRE/test/lsun_bedroom/vqdiffusion\", 1.0, \"*\", TEST_SHARDS, 0),\n",
    "]"
   ]
  },
  {
   "cell_type": "code",
   "execution_count": null,
   "metadata": {},
   "outputs": [],
   "source": [
    "# declare empty dataset for trainingn and validation\n",
    "training_dataset = None\n",
    "validation_dataset = None\n",
    "\n",
    "for directory, label, pattern, shards, shard_index in train_directories:\n",
    "    print(\n",
    "        f\"\"\"\n",
    "**********************************************************************************************************************************          \n",
    "          Directory:  {directory} \n",
    "**********************************************************************************************************************************\n",
    "    \"\"\"\n",
    "    )\n",
    "\n",
    "    current_dataset = get_custom_dataset(directory, label, pattern)\n",
    "\n",
    "    if shards > 1:\n",
    "        # shard the dataset\n",
    "        current_dataset = current_dataset.shard(num_shards=shards, index=shard_index)\n",
    "\n",
    "    # split dataset into train and validation\n",
    "    dataset_size = len(current_dataset)\n",
    "    train_size = int(0.8 * dataset_size)\n",
    "    validation_size = int(0.2 * dataset_size)\n",
    "\n",
    "    current_train_dataset = current_dataset.skip(validation_size)\n",
    "    current_validation_dataset = current_dataset.take(validation_size)\n",
    "\n",
    "    if training_dataset is None:\n",
    "        training_dataset = current_train_dataset\n",
    "    else:\n",
    "        training_dataset = training_dataset.concatenate(current_train_dataset)\n",
    "\n",
    "    if validation_dataset is None:\n",
    "        validation_dataset = current_validation_dataset\n",
    "    else:\n",
    "        validation_dataset = validation_dataset.concatenate(current_validation_dataset)\n",
    "\n",
    "    # VISUALIZE DATASET\n",
    "    visualize_dataset(current_dataset.take(16))\n",
    "\n",
    "training_dataset = (\n",
    "    training_dataset.shuffle(buffer_size=training_dataset.cardinality(), seed=SEED)\n",
    "    .batch(CONFIGURATION[\"BATCH_SIZE\"])\n",
    "    .prefetch(tf.data.AUTOTUNE)\n",
    ")\n",
    "\n",
    "validation_dataset = validation_dataset.batch(CONFIGURATION[\"BATCH_SIZE\"]).prefetch(tf.data.AUTOTUNE)"
   ]
  },
  {
   "cell_type": "code",
   "execution_count": null,
   "metadata": {},
   "outputs": [],
   "source": [
    "def log_test_metrics(current_model, wandb_run):\n",
    "    # declare empty dataframe and add results to it for each test dataset\n",
    "    loss_dataframe = pd.DataFrame()\n",
    "    accuracy_dataframe = pd.DataFrame()\n",
    "\n",
    "    # composite dataframe\n",
    "    composite_dataframe = pd.DataFrame()\n",
    "\n",
    "    loss_dataframe[\"model\"] = [wandb_run.name]\n",
    "    accuracy_dataframe[\"model\"] = [wandb_run.name]\n",
    "    # instantiate empty dataset\n",
    "    composite_dataset = None\n",
    "\n",
    "    for directory, label, pattern, shards, shard_index in test_directories:\n",
    "        current_dataset = get_custom_dataset(directory, label, pattern)\n",
    "        # current_dataset.ignore_errors()\n",
    "        current_dataset = current_dataset.batch(CONFIGURATION[\"BATCH_SIZE\"])\n",
    "\n",
    "        # evaluate model on current_dataset and capture metrics\n",
    "        test_loss, test_accuracy, test_precision, test_recall = current_model.evaluate(current_dataset)\n",
    "        # Extract the 3rd part of the directory path\n",
    "        dataset_name = directory.split(\"/\")[3] + \" : \" + directory.split(\"/\")[-1]\n",
    "\n",
    "        # add a column to the dataframe\n",
    "        loss_dataframe[dataset_name] = [test_loss]\n",
    "        accuracy_dataframe[dataset_name] = [test_accuracy]\n",
    "\n",
    "        # concatenate current dataset to composite dataset\n",
    "        if composite_dataset is None:\n",
    "            composite_dataset = current_dataset\n",
    "        else:\n",
    "            composite_dataset = composite_dataset.concatenate(current_dataset)\n",
    "\n",
    "    (\n",
    "        composite_loss,\n",
    "        composite_accuracy,\n",
    "        composite_precision,\n",
    "        composite_recall,\n",
    "    ) = current_model.evaluate(composite_dataset)\n",
    "    composite_dataframe[\"model\"] = [wandb_run.name]\n",
    "    composite_dataframe[\"loss\"] = [composite_loss]\n",
    "    composite_dataframe[\"accuracy\"] = [composite_accuracy]\n",
    "    composite_dataframe[\"precision\"] = [composite_precision]\n",
    "    composite_dataframe[\"recall\"] = [composite_recall]\n",
    "\n",
    "    wandb_run.log({\"Loss\": wandb.Table(dataframe=loss_dataframe)})\n",
    "    wandb_run.log({\"Accuracy\": wandb.Table(dataframe=accuracy_dataframe)})\n",
    "    wandb_run.log({\"Overall Results\": wandb.Table(dataframe=composite_dataframe)})\n",
    "\n",
    "\n",
    "# def log_test_metrics(current_model, wandb_run):\n",
    "#     # declare empty dataframe and add results to it for each test dataset\n",
    "#     loss_dataframe = pd.DataFrame()\n",
    "#     accuracy_dataframe = pd.DataFrame()\n",
    "\n",
    "#     loss_dataframe['model'] = [wandb_run.name]\n",
    "#     accuracy_dataframe['model'] = [wandb_run.name]\n",
    "\n",
    "#     for directory, label, pattern, shards, shard_index in test_directories:\n",
    "\n",
    "#         current_dataset = get_custom_dataset(directory, label, pattern)\n",
    "#         # current_dataset.ignore_errors()\n",
    "#         current_dataset = current_dataset.batch(CONFIGURATION[\"BATCH_SIZE\"])\n",
    "\n",
    "#         # evaluate model on current_dataset and capture metrics\n",
    "#         test_loss, test_accuracy, test_precision, test_recall = current_model.evaluate(current_dataset)\n",
    "#         # Extract the 3rd part of the directory path\n",
    "#         dataset_name = directory.split('/')[3] + ' : ' + directory.split('/')[-1]\n",
    "\n",
    "\n",
    "#         # add a column to the dataframe\n",
    "#         loss_dataframe[dataset_name] = [test_loss]\n",
    "#         accuracy_dataframe[dataset_name] = [test_accuracy]\n",
    "\n",
    "#     # wandb_run.Table(dataframe = loss_dataframe)\n",
    "#     # wandb_run.table(dataframe = accuracy_dataframe)\n",
    "\n",
    "#     wandb_run.log({\"Loss\": wandb.Table(dataframe = loss_dataframe)})\n",
    "#     wandb_run.log({\"Accuracy\": wandb.Table(dataframe = accuracy_dataframe)})"
   ]
  },
  {
   "cell_type": "markdown",
   "metadata": {},
   "source": [
    "# Data Visualization"
   ]
  },
  {
   "cell_type": "code",
   "execution_count": null,
   "metadata": {
    "execution": {
     "iopub.execute_input": "2023-09-09T02:19:09.162535Z",
     "iopub.status.busy": "2023-09-09T02:19:09.161842Z",
     "iopub.status.idle": "2023-09-09T02:19:11.442569Z",
     "shell.execute_reply": "2023-09-09T02:19:11.441450Z",
     "shell.execute_reply.started": "2023-09-09T02:19:09.162503Z"
    }
   },
   "outputs": [],
   "source": [
    "plt.figure(figsize=(12, 12))\n",
    "for image, label in training_dataset.take(1):\n",
    "    for index in range(16):\n",
    "        ax = plt.subplot(4, 4, index + 1)\n",
    "        plt.imshow(image[index])\n",
    "        plt.title(CLASS_NAMES[int(label[index])])\n",
    "        plt.axis(\"off\")"
   ]
  },
  {
   "cell_type": "code",
   "execution_count": null,
   "metadata": {},
   "outputs": [],
   "source": [
    "if CLEAN_RUN:\n",
    "    if os.path.exists(training_dataset_path):\n",
    "        # remove directory recursively\n",
    "        shutil.rmtree(training_dataset_path)\n",
    "\n",
    "    if os.path.exists(validation_dataset_path):\n",
    "        shutil.rmtree(validation_dataset_path)\n",
    "\n",
    "if not os.path.exists(training_dataset_path):\n",
    "    training_dataset.save(training_dataset_path)\n",
    "\n",
    "if not os.path.exists(validation_dataset_path):\n",
    "    validation_dataset.save(validation_dataset_path)"
   ]
  },
  {
   "cell_type": "code",
   "execution_count": null,
   "metadata": {},
   "outputs": [],
   "source": [
    "# load dataset sets from disk\n",
    "training_dataset = tf.data.Dataset.load(training_dataset_path)\n",
    "validation_dataset = tf.data.Dataset.load(validation_dataset_path)"
   ]
  },
  {
   "cell_type": "markdown",
   "metadata": {},
   "source": [
    "# Config and Callbacks for Model"
   ]
  },
  {
   "cell_type": "code",
   "execution_count": null,
   "metadata": {
    "execution": {
     "iopub.execute_input": "2023-09-09T02:19:11.476780Z",
     "iopub.status.busy": "2023-09-09T02:19:11.476126Z",
     "iopub.status.idle": "2023-09-09T02:19:11.483954Z",
     "shell.execute_reply": "2023-09-09T02:19:11.482820Z",
     "shell.execute_reply.started": "2023-09-09T02:19:11.476733Z"
    }
   },
   "outputs": [],
   "source": [
    "# Reduce LR On no Improvement\n",
    "reduce_lr = ReduceLROnPlateau(\n",
    "    monitor=\"val_loss\",\n",
    "    factor=0.1,\n",
    "    patience=1,\n",
    "    verbose=1,\n",
    "    mode=\"min\",\n",
    "    min_delta=0.000001,\n",
    "    cooldown=0,\n",
    "    min_lr=1e-15,\n",
    ")\n",
    "\n",
    "# Early Stopping\n",
    "early_stopping = EarlyStopping(\n",
    "    monitor=\"val_loss\",\n",
    "    min_delta=0.00001,\n",
    "    patience=5,\n",
    "    verbose=1,\n",
    "    mode=\"min\",\n",
    "    baseline=None,\n",
    "    restore_best_weights=True,\n",
    ")"
   ]
  },
  {
   "cell_type": "markdown",
   "metadata": {},
   "source": [
    "## Wandb\n",
    "Using wandb to track performance of the model"
   ]
  },
  {
   "cell_type": "code",
   "execution_count": null,
   "metadata": {
    "execution": {
     "iopub.execute_input": "2023-09-09T02:19:11.497324Z",
     "iopub.status.busy": "2023-09-09T02:19:11.496784Z",
     "iopub.status.idle": "2023-09-09T02:19:13.892804Z",
     "shell.execute_reply": "2023-09-09T02:19:13.891770Z",
     "shell.execute_reply.started": "2023-09-09T02:19:11.497292Z"
    }
   },
   "outputs": [],
   "source": [
    "wandb.login()"
   ]
  },
  {
   "cell_type": "markdown",
   "metadata": {},
   "source": [
    "# Model Creation"
   ]
  },
  {
   "cell_type": "markdown",
   "metadata": {},
   "source": [
    "### Basic CNN Model"
   ]
  },
  {
   "cell_type": "code",
   "execution_count": null,
   "metadata": {
    "execution": {
     "iopub.execute_input": "2023-09-09T02:19:45.061670Z",
     "iopub.status.busy": "2023-09-09T02:19:45.060924Z",
     "iopub.status.idle": "2023-09-09T02:19:45.359935Z",
     "shell.execute_reply": "2023-09-09T02:19:45.358946Z",
     "shell.execute_reply.started": "2023-09-09T02:19:45.061625Z"
    }
   },
   "outputs": [],
   "source": [
    "cnn_model_path.mkdir(parents=True, exist_ok=True)\n",
    "cnn_model_best_weights_path = cnn_model_path / \"best_weights\"\n",
    "cnn_model_saved_model_path = cnn_model_path / \"saved_model\"\n",
    "\n",
    "cnn_model = tf.keras.Sequential(\n",
    "    [\n",
    "        InputLayer(input_shape=(CONFIGURATION[\"IM_SIZE\"], CONFIGURATION[\"IM_SIZE\"], 3)),\n",
    "        Conv2D(\n",
    "            filters=CONFIGURATION[\"N_FILTERS\"],\n",
    "            kernel_size=CONFIGURATION[\"KERNEL_SIZE\"],\n",
    "            strides=CONFIGURATION[\"N_STRIDES\"],\n",
    "            padding=\"valid\",\n",
    "            activation=\"relu\",\n",
    "            kernel_regularizer=L2(CONFIGURATION[\"REGULARIZATION_RATE\"]),\n",
    "        ),\n",
    "        BatchNormalization(),\n",
    "        MaxPool2D(pool_size=CONFIGURATION[\"POOL_SIZE\"], strides=CONFIGURATION[\"N_STRIDES\"] * 2),\n",
    "        Conv2D(\n",
    "            filters=CONFIGURATION[\"N_FILTERS\"] * 2,\n",
    "            kernel_size=CONFIGURATION[\"KERNEL_SIZE\"],\n",
    "            strides=CONFIGURATION[\"N_STRIDES\"],\n",
    "            padding=\"valid\",\n",
    "            activation=\"relu\",\n",
    "            kernel_regularizer=L2(CONFIGURATION[\"REGULARIZATION_RATE\"]),\n",
    "        ),\n",
    "        BatchNormalization(),\n",
    "        MaxPool2D(pool_size=CONFIGURATION[\"POOL_SIZE\"], strides=CONFIGURATION[\"N_STRIDES\"] * 2),\n",
    "        Conv2D(\n",
    "            filters=CONFIGURATION[\"N_FILTERS\"] * 3,\n",
    "            kernel_size=CONFIGURATION[\"KERNEL_SIZE\"],\n",
    "            strides=CONFIGURATION[\"N_STRIDES\"],\n",
    "            padding=\"valid\",\n",
    "            activation=\"relu\",\n",
    "            kernel_regularizer=L2(CONFIGURATION[\"REGULARIZATION_RATE\"]),\n",
    "        ),\n",
    "        BatchNormalization(),\n",
    "        MaxPool2D(pool_size=CONFIGURATION[\"POOL_SIZE\"], strides=CONFIGURATION[\"N_STRIDES\"] * 2),\n",
    "        GlobalAveragePooling2D(),\n",
    "        Dense(\n",
    "            CONFIGURATION[\"N_DENSE_1\"],\n",
    "            activation=\"relu\",\n",
    "            kernel_regularizer=L2(CONFIGURATION[\"REGULARIZATION_RATE\"]),\n",
    "        ),\n",
    "        BatchNormalization(),\n",
    "        Dropout(rate=CONFIGURATION[\"DROPOUT_RATE\"]),\n",
    "        Dense(\n",
    "            CONFIGURATION[\"N_DENSE_2\"],\n",
    "            activation=\"relu\",\n",
    "            kernel_regularizer=L2(CONFIGURATION[\"REGULARIZATION_RATE\"]),\n",
    "        ),\n",
    "        BatchNormalization(),\n",
    "        Dense(1, activation=\"sigmoid\"),\n",
    "    ]\n",
    ")"
   ]
  },
  {
   "cell_type": "code",
   "execution_count": null,
   "metadata": {
    "execution": {
     "iopub.execute_input": "2023-09-09T02:19:45.366903Z",
     "iopub.status.busy": "2023-09-09T02:19:45.364589Z",
     "iopub.status.idle": "2023-09-09T02:19:45.492292Z",
     "shell.execute_reply": "2023-09-09T02:19:45.491115Z",
     "shell.execute_reply.started": "2023-09-09T02:19:45.366867Z"
    }
   },
   "outputs": [],
   "source": [
    "cnn_model.summary()"
   ]
  },
  {
   "cell_type": "code",
   "execution_count": null,
   "metadata": {
    "execution": {
     "iopub.execute_input": "2023-09-09T02:19:45.494162Z",
     "iopub.status.busy": "2023-09-09T02:19:45.493839Z",
     "iopub.status.idle": "2023-09-09T02:19:45.873863Z",
     "shell.execute_reply": "2023-09-09T02:19:45.872926Z",
     "shell.execute_reply.started": "2023-09-09T02:19:45.494131Z"
    }
   },
   "outputs": [],
   "source": [
    "plot_model(cnn_model, to_file=\"cnn_model.png\", show_shapes=True, show_layer_names=True)\n",
    "Image(filename=\"cnn_model.png\")"
   ]
  },
  {
   "cell_type": "code",
   "execution_count": null,
   "metadata": {
    "execution": {
     "iopub.execute_input": "2023-09-09T02:19:45.877589Z",
     "iopub.status.busy": "2023-09-09T02:19:45.876946Z",
     "iopub.status.idle": "2023-09-09T02:19:45.904402Z",
     "shell.execute_reply": "2023-09-09T02:19:45.903590Z",
     "shell.execute_reply.started": "2023-09-09T02:19:45.877545Z"
    }
   },
   "outputs": [],
   "source": [
    "metrics = [\n",
    "    BinaryAccuracy(name=\"Accuracy\"),\n",
    "    Precision(name=\"Precision\"),\n",
    "    Recall(name=\"Recall\"),\n",
    "]"
   ]
  },
  {
   "cell_type": "code",
   "execution_count": null,
   "metadata": {
    "execution": {
     "iopub.execute_input": "2023-09-09T02:19:45.918689Z",
     "iopub.status.busy": "2023-09-09T02:19:45.916398Z",
     "iopub.status.idle": "2023-09-09T02:19:45.941085Z",
     "shell.execute_reply": "2023-09-09T02:19:45.940256Z",
     "shell.execute_reply.started": "2023-09-09T02:19:45.918654Z"
    }
   },
   "outputs": [],
   "source": [
    "cnn_model.compile(\n",
    "    optimizer=Adam(learning_rate=CONFIGURATION[\"LEARNING_RATE\"]),\n",
    "    loss=BinaryCrossentropy(),\n",
    "    metrics=metrics,\n",
    ")"
   ]
  },
  {
   "cell_type": "markdown",
   "metadata": {},
   "source": [
    "#### Model Training"
   ]
  },
  {
   "cell_type": "code",
   "execution_count": null,
   "metadata": {
    "execution": {
     "iopub.execute_input": "2023-09-09T02:19:45.947328Z",
     "iopub.status.busy": "2023-09-09T02:19:45.945092Z",
     "iopub.status.idle": "2023-09-09T02:20:15.876119Z",
     "shell.execute_reply": "2023-09-09T02:20:15.875085Z",
     "shell.execute_reply.started": "2023-09-09T02:19:45.947294Z"
    }
   },
   "outputs": [],
   "source": [
    "wandb_run = wandb.init(\n",
    "    entity=ENTITY,\n",
    "    project=PROJECT,\n",
    "    job_type=f\"cnn_{JOB_TYPE_SUFFIX}\",\n",
    "    name=f\"cnn_{RUN_NAME_SUFFIX}\",\n",
    "    config=CONFIGURATION,\n",
    ")\n",
    "\n",
    "# Model Checkpointing\n",
    "model_checkpoint = ModelCheckpoint(\n",
    "    cnn_model_best_weights_path,\n",
    "    monitor=\"val_loss\",\n",
    "    verbose=1,\n",
    "    save_best_only=True,\n",
    "    save_weights_only=True,\n",
    "    mode=\"min\",\n",
    "    save_freq=\"epoch\",\n",
    ")\n",
    "\n",
    "cnn_history = cnn_model.fit(\n",
    "    training_dataset,\n",
    "    validation_data=validation_dataset,\n",
    "    epochs=CONFIGURATION[\"N_EPOCHS\"],\n",
    "    callbacks=[\n",
    "        reduce_lr,\n",
    "        model_checkpoint,\n",
    "        early_stopping,\n",
    "        WandbCallback(save_model=False),\n",
    "    ],\n",
    ")"
   ]
  },
  {
   "cell_type": "markdown",
   "metadata": {},
   "source": [
    "#### CNN Model Evaluation"
   ]
  },
  {
   "cell_type": "code",
   "execution_count": null,
   "metadata": {
    "execution": {
     "iopub.execute_input": "2023-09-09T02:20:15.878568Z",
     "iopub.status.busy": "2023-09-09T02:20:15.878227Z",
     "iopub.status.idle": "2023-09-09T02:20:16.318729Z",
     "shell.execute_reply": "2023-09-09T02:20:16.317189Z",
     "shell.execute_reply.started": "2023-09-09T02:20:15.878533Z"
    }
   },
   "outputs": [],
   "source": [
    "# Load best model weights from checkpoint\n",
    "cnn_model.load_weights(cnn_model_best_weights_path)\n",
    "# save cnn model to disk\n",
    "cnn_model.save(cnn_model_saved_model_path)"
   ]
  },
  {
   "cell_type": "code",
   "execution_count": null,
   "metadata": {
    "execution": {
     "iopub.execute_input": "2023-09-09T02:20:26.237248Z",
     "iopub.status.busy": "2023-09-09T02:20:26.236878Z",
     "iopub.status.idle": "2023-09-09T02:21:19.446964Z",
     "shell.execute_reply": "2023-09-09T02:21:19.445682Z",
     "shell.execute_reply.started": "2023-09-09T02:20:26.237215Z"
    }
   },
   "outputs": [],
   "source": [
    "cnn_model.evaluate(validation_dataset)"
   ]
  },
  {
   "cell_type": "code",
   "execution_count": null,
   "metadata": {
    "execution": {
     "iopub.execute_input": "2023-09-09T02:21:27.503399Z",
     "iopub.status.busy": "2023-09-09T02:21:27.503001Z",
     "iopub.status.idle": "2023-09-09T02:21:27.508135Z",
     "shell.execute_reply": "2023-09-09T02:21:27.507158Z",
     "shell.execute_reply.started": "2023-09-09T02:21:27.503367Z"
    }
   },
   "outputs": [],
   "source": [
    "plt.plot(cnn_history.history[\"loss\"])\n",
    "plt.plot(cnn_history.history[\"val_loss\"])\n",
    "plt.title(\"CNN Model Loss\")\n",
    "plt.xlabel(\"epoch\")\n",
    "plt.ylabel(\"loss\")\n",
    "plt.legend([\"train_loss\", \"val_loss\"])\n",
    "plt.show()"
   ]
  },
  {
   "cell_type": "code",
   "execution_count": null,
   "metadata": {
    "execution": {
     "iopub.execute_input": "2023-09-09T02:21:27.512958Z",
     "iopub.status.busy": "2023-09-09T02:21:27.511903Z",
     "iopub.status.idle": "2023-09-09T02:21:27.523045Z",
     "shell.execute_reply": "2023-09-09T02:21:27.522013Z",
     "shell.execute_reply.started": "2023-09-09T02:21:27.512922Z"
    }
   },
   "outputs": [],
   "source": [
    "plt.plot(cnn_history.history[\"Accuracy\"])\n",
    "plt.plot(cnn_history.history[\"val_Accuracy\"])\n",
    "plt.title(\"CNN Model Accuracy\")\n",
    "plt.xlabel(\"epoch\")\n",
    "plt.ylabel(\"accuracy\")\n",
    "plt.legend([\"train_accuracy\", \"val_accuracy\"])\n",
    "plt.show()"
   ]
  },
  {
   "cell_type": "code",
   "execution_count": null,
   "metadata": {},
   "outputs": [],
   "source": [
    "log_test_metrics(cnn_model, wandb_run)\n",
    "\n",
    "wandb_run.finish()"
   ]
  },
  {
   "cell_type": "markdown",
   "metadata": {},
   "source": [
    "## Using Pretrained Models"
   ]
  },
  {
   "cell_type": "markdown",
   "metadata": {},
   "source": [
    "### EfficientNetV2 S"
   ]
  },
  {
   "cell_type": "markdown",
   "metadata": {},
   "source": [
    "Model has some issues with checkpoint and model_save_weights type of callbacks,\n",
    "so inorder for them to work you have to downgrade tensorflow with\n",
    "**!pip install tensorflow==2.9.1**"
   ]
  },
  {
   "cell_type": "code",
   "execution_count": null,
   "metadata": {
    "execution": {
     "iopub.execute_input": "2023-09-09T02:22:48.412207Z",
     "iopub.status.busy": "2023-09-09T02:22:48.411388Z",
     "iopub.status.idle": "2023-09-09T02:23:19.720936Z",
     "shell.execute_reply": "2023-09-09T02:23:19.720040Z",
     "shell.execute_reply.started": "2023-09-09T02:22:48.412134Z"
    }
   },
   "outputs": [],
   "source": [
    "effv2_model_dir_path.mkdir(parents=True, exist_ok=True)\n",
    "effv2_model_best_weights_path = effv2_model_dir_path / \"best_weights\"\n",
    "effv2_model_saved_model_path = effv2_model_dir_path / \"saved_model\"\n",
    "\n",
    "CONFIGURATION = {\n",
    "    \"BATCH_SIZE\": 32,\n",
    "    \"IM_SIZE\": IMAGE_RESOLUTION,\n",
    "    \"DROPOUT_RATE\": 0.0,\n",
    "    \"N_EPOCHS\": EPOCHS,\n",
    "    \"REGULARIZATION_RATE\": 0.0,\n",
    "    \"N_FILTERS\": 6,\n",
    "    \"KERNEL_SIZE\": 3,\n",
    "    \"N_STRIDES\": 1,\n",
    "    \"POOL_SIZE\": 2,\n",
    "    \"N_DENSE_1\": 2048,\n",
    "    \"N_DENSE_2\": 1024,\n",
    "    \"N_DENSE_3\": 256,\n",
    "    \"NUM_CLASSES\": 2,\n",
    "    \"LEARNING_RATE\": 0.001,\n",
    "}\n",
    "\n",
    "wandb_run = wandb.init(\n",
    "    entity=ENTITY,\n",
    "    project=PROJECT,\n",
    "    job_type=f\"effv2s_{JOB_TYPE_SUFFIX}\",\n",
    "    name=f\"fc_layers_{RUN_NAME_SUFFIX}\",\n",
    "    reinit=True,\n",
    "    config=CONFIGURATION,\n",
    "    settings=wandb.Settings(start_method=\"fork\"),\n",
    ")"
   ]
  },
  {
   "cell_type": "code",
   "execution_count": null,
   "metadata": {
    "execution": {
     "iopub.execute_input": "2023-09-09T02:23:19.726620Z",
     "iopub.status.busy": "2023-09-09T02:23:19.726278Z",
     "iopub.status.idle": "2023-09-09T02:23:26.299075Z",
     "shell.execute_reply": "2023-09-09T02:23:26.298006Z",
     "shell.execute_reply.started": "2023-09-09T02:23:19.726586Z"
    }
   },
   "outputs": [],
   "source": [
    "# Model Checkpointing\n",
    "model_checkpoint = ModelCheckpoint(\n",
    "    effv2_model_best_weights_path,\n",
    "    monitor=\"val_loss\",\n",
    "    verbose=1,\n",
    "    save_best_only=True,\n",
    "    save_weights_only=True,\n",
    "    mode=\"min\",\n",
    "    save_freq=\"epoch\",\n",
    ")\n",
    "\n",
    "backbone = tf.keras.applications.EfficientNetV2S(\n",
    "    include_top=False,\n",
    "    weights=\"imagenet\",\n",
    "    input_tensor=None,\n",
    "    input_shape=(CONFIGURATION[\"IM_SIZE\"], CONFIGURATION[\"IM_SIZE\"], 3),\n",
    ")"
   ]
  },
  {
   "cell_type": "code",
   "execution_count": null,
   "metadata": {
    "execution": {
     "iopub.execute_input": "2023-09-09T02:23:26.301398Z",
     "iopub.status.busy": "2023-09-09T02:23:26.300673Z",
     "iopub.status.idle": "2023-09-09T02:23:26.330772Z",
     "shell.execute_reply": "2023-09-09T02:23:26.329934Z",
     "shell.execute_reply.started": "2023-09-09T02:23:26.301360Z"
    }
   },
   "outputs": [],
   "source": [
    "backbone.trainable = False"
   ]
  },
  {
   "cell_type": "code",
   "execution_count": null,
   "metadata": {
    "execution": {
     "iopub.execute_input": "2023-09-09T02:23:26.333020Z",
     "iopub.status.busy": "2023-09-09T02:23:26.332359Z",
     "iopub.status.idle": "2023-09-09T02:23:28.630851Z",
     "shell.execute_reply": "2023-09-09T02:23:28.629815Z",
     "shell.execute_reply.started": "2023-09-09T02:23:26.332984Z"
    }
   },
   "outputs": [],
   "source": [
    "efficientnetv2s_model = tf.keras.Sequential(\n",
    "    [\n",
    "        Input(shape=(CONFIGURATION[\"IM_SIZE\"], CONFIGURATION[\"IM_SIZE\"], 3)),\n",
    "        backbone,\n",
    "        GlobalAveragePooling2D(),\n",
    "        Dense(CONFIGURATION[\"N_DENSE_1\"], activation=\"relu\"),\n",
    "        BatchNormalization(),\n",
    "        Dropout(rate=CONFIGURATION[\"DROPOUT_RATE\"]),\n",
    "        Dense(CONFIGURATION[\"N_DENSE_2\"], activation=\"relu\"),\n",
    "        BatchNormalization(),\n",
    "        Dropout(rate=CONFIGURATION[\"DROPOUT_RATE\"]),\n",
    "        Dense(CONFIGURATION[\"N_DENSE_3\"], activation=\"relu\"),\n",
    "        BatchNormalization(),\n",
    "        Dense(1, activation=\"sigmoid\"),\n",
    "    ]\n",
    ")\n",
    "\n",
    "efficientnetv2s_model.summary()"
   ]
  },
  {
   "cell_type": "code",
   "execution_count": null,
   "metadata": {
    "execution": {
     "iopub.execute_input": "2023-09-09T02:23:28.633432Z",
     "iopub.status.busy": "2023-09-09T02:23:28.632682Z",
     "iopub.status.idle": "2023-09-09T02:23:28.834710Z",
     "shell.execute_reply": "2023-09-09T02:23:28.833292Z",
     "shell.execute_reply.started": "2023-09-09T02:23:28.633390Z"
    }
   },
   "outputs": [],
   "source": [
    "plot_model(\n",
    "    efficientnetv2s_model,\n",
    "    to_file=\"efficientnet_b4_model.png\",\n",
    "    show_shapes=True,\n",
    "    show_layer_names=True,\n",
    ")\n",
    "Image(filename=\"efficientnet_b4_model.png\")"
   ]
  },
  {
   "cell_type": "code",
   "execution_count": null,
   "metadata": {
    "execution": {
     "iopub.execute_input": "2023-09-09T02:23:28.836558Z",
     "iopub.status.busy": "2023-09-09T02:23:28.836160Z",
     "iopub.status.idle": "2023-09-09T02:23:28.867001Z",
     "shell.execute_reply": "2023-09-09T02:23:28.866155Z",
     "shell.execute_reply.started": "2023-09-09T02:23:28.836523Z"
    }
   },
   "outputs": [],
   "source": [
    "efficientnetv2s_model.compile(\n",
    "    optimizer=Adam(learning_rate=CONFIGURATION[\"LEARNING_RATE\"]),\n",
    "    loss=BinaryCrossentropy(),\n",
    "    metrics=metrics,\n",
    ")"
   ]
  },
  {
   "cell_type": "code",
   "execution_count": null,
   "metadata": {
    "execution": {
     "iopub.execute_input": "2023-09-09T02:23:28.873316Z",
     "iopub.status.busy": "2023-09-09T02:23:28.871067Z",
     "iopub.status.idle": "2023-09-09T02:53:44.184933Z",
     "shell.execute_reply": "2023-09-09T02:53:44.183926Z",
     "shell.execute_reply.started": "2023-09-09T02:23:28.873281Z"
    }
   },
   "outputs": [],
   "source": [
    "efficientnetv2s_history = efficientnetv2s_model.fit(\n",
    "    training_dataset,\n",
    "    validation_data=validation_dataset,\n",
    "    epochs=CONFIGURATION[\"N_EPOCHS\"],\n",
    "    callbacks=[\n",
    "        reduce_lr,\n",
    "        model_checkpoint,\n",
    "        early_stopping,\n",
    "        WandbCallback(save_model=False),\n",
    "    ],\n",
    ")\n",
    "\n",
    "log_test_metrics(efficientnetv2s_model, wandb_run)\n",
    "wandb_run.finish()"
   ]
  },
  {
   "cell_type": "code",
   "execution_count": null,
   "metadata": {
    "execution": {
     "iopub.execute_input": "2023-09-09T02:53:44.186603Z",
     "iopub.status.busy": "2023-09-09T02:53:44.186260Z",
     "iopub.status.idle": "2023-09-09T02:53:44.495629Z",
     "shell.execute_reply": "2023-09-09T02:53:44.494665Z",
     "shell.execute_reply.started": "2023-09-09T02:53:44.186564Z"
    }
   },
   "outputs": [],
   "source": [
    "plt.plot(efficientnetv2s_history.history[\"loss\"])\n",
    "plt.plot(efficientnetv2s_history.history[\"val_loss\"])\n",
    "plt.title(\"EfficientNetV2 S Model Loss\")\n",
    "plt.xlabel(\"epoch\")\n",
    "plt.ylabel(\"loss\")\n",
    "plt.legend([\"train_loss\", \"val_loss\"])\n",
    "plt.show()"
   ]
  },
  {
   "cell_type": "code",
   "execution_count": null,
   "metadata": {
    "execution": {
     "iopub.execute_input": "2023-09-09T02:53:44.497897Z",
     "iopub.status.busy": "2023-09-09T02:53:44.497239Z",
     "iopub.status.idle": "2023-09-09T02:53:44.811604Z",
     "shell.execute_reply": "2023-09-09T02:53:44.810667Z",
     "shell.execute_reply.started": "2023-09-09T02:53:44.497860Z"
    }
   },
   "outputs": [],
   "source": [
    "plt.plot(efficientnetv2s_history.history[\"Accuracy\"])\n",
    "plt.plot(efficientnetv2s_history.history[\"val_Accuracy\"])\n",
    "plt.title(\"EfficientNetV2 S Model Accuracy\")\n",
    "plt.xlabel(\"epoch\")\n",
    "plt.ylabel(\"accuracy\")\n",
    "plt.legend([\"train_accuracy\", \"val_accuracy\"])\n",
    "plt.show()"
   ]
  },
  {
   "cell_type": "markdown",
   "metadata": {},
   "source": [
    "#### FineTuning the model"
   ]
  },
  {
   "cell_type": "markdown",
   "metadata": {},
   "source": [
    "By mistake due to an error I think I lost the pretrained model which had its output layers trained so instead I had to start training the model with all its layers set to trainable=True from start instead of Finetuning as I had used a lot of GPU Time\n",
    "\n",
    "You can instead remember to downgrade Tensorflow before using this pretrained model"
   ]
  },
  {
   "cell_type": "code",
   "execution_count": null,
   "metadata": {
    "execution": {
     "iopub.execute_input": "2023-09-09T03:48:01.852673Z",
     "iopub.status.busy": "2023-09-09T03:48:01.852023Z",
     "iopub.status.idle": "2023-09-09T03:48:01.876678Z",
     "shell.execute_reply": "2023-09-09T03:48:01.875668Z",
     "shell.execute_reply.started": "2023-09-09T03:48:01.852635Z"
    }
   },
   "outputs": [],
   "source": [
    "backbone.trainable = True"
   ]
  },
  {
   "cell_type": "code",
   "execution_count": null,
   "metadata": {
    "execution": {
     "iopub.execute_input": "2023-09-09T03:48:01.880232Z",
     "iopub.status.busy": "2023-09-09T03:48:01.879874Z",
     "iopub.status.idle": "2023-09-09T03:48:01.963292Z",
     "shell.execute_reply": "2023-09-09T03:48:01.962320Z",
     "shell.execute_reply.started": "2023-09-09T03:48:01.880199Z"
    }
   },
   "outputs": [],
   "source": [
    "efficientnetv2s_model.summary()"
   ]
  },
  {
   "cell_type": "code",
   "execution_count": null,
   "metadata": {
    "execution": {
     "iopub.execute_input": "2023-09-09T03:48:01.965693Z",
     "iopub.status.busy": "2023-09-09T03:48:01.965017Z",
     "iopub.status.idle": "2023-09-09T03:48:01.989473Z",
     "shell.execute_reply": "2023-09-09T03:48:01.988562Z",
     "shell.execute_reply.started": "2023-09-09T03:48:01.965642Z"
    }
   },
   "outputs": [],
   "source": [
    "efficientnetv2s_model.compile(\n",
    "    optimizer=Adam(learning_rate=CONFIGURATION[\"LEARNING_RATE\"] / 100),\n",
    "    loss=BinaryCrossentropy(),\n",
    "    metrics=metrics,\n",
    ")"
   ]
  },
  {
   "cell_type": "code",
   "execution_count": null,
   "metadata": {
    "execution": {
     "iopub.execute_input": "2023-09-09T03:48:31.558896Z",
     "iopub.status.busy": "2023-09-09T03:48:31.558512Z",
     "iopub.status.idle": "2023-09-09T07:37:40.050362Z",
     "shell.execute_reply": "2023-09-09T07:37:40.049402Z",
     "shell.execute_reply.started": "2023-09-09T03:48:31.558863Z"
    }
   },
   "outputs": [],
   "source": [
    "wandb_run = wandb.init(\n",
    "    entity=ENTITY,\n",
    "    project=PROJECT,\n",
    "    job_type=f\"effv2s_{JOB_TYPE_SUFFIX}\",\n",
    "    name=f\"all_layers_{RUN_NAME_SUFFIX}\",\n",
    "    reinit=True,\n",
    "    config=CONFIGURATION,\n",
    ")\n",
    "\n",
    "# Model Checkpointing\n",
    "model_checkpoint = ModelCheckpoint(\n",
    "    effv2_model_best_weights_path,\n",
    "    monitor=\"val_loss\",\n",
    "    verbose=1,\n",
    "    save_best_only=True,\n",
    "    save_weights_only=True,\n",
    "    mode=\"min\",\n",
    "    save_freq=\"epoch\",\n",
    ")\n",
    "\n",
    "# efficientnetv2s_model.load_weights(effv2_model_best_weights_path)\n",
    "\n",
    "efficientnetv2s_history = efficientnetv2s_model.fit(\n",
    "    training_dataset,\n",
    "    validation_data=validation_dataset,\n",
    "    epochs=CONFIGURATION[\"N_EPOCHS\"] * 3,\n",
    "    callbacks=[\n",
    "        reduce_lr,\n",
    "        model_checkpoint,\n",
    "        early_stopping,\n",
    "        WandbCallback(save_model=False),\n",
    "    ],\n",
    ")"
   ]
  },
  {
   "cell_type": "markdown",
   "metadata": {},
   "source": [
    "#### EfficientNetB4 Model Evaluation after Finetuning"
   ]
  },
  {
   "cell_type": "code",
   "execution_count": null,
   "metadata": {
    "execution": {
     "iopub.execute_input": "2023-09-09T07:37:40.053141Z",
     "iopub.status.busy": "2023-09-09T07:37:40.052746Z",
     "iopub.status.idle": "2023-09-09T07:38:00.550972Z",
     "shell.execute_reply": "2023-09-09T07:38:00.549011Z",
     "shell.execute_reply.started": "2023-09-09T07:37:40.053099Z"
    }
   },
   "outputs": [],
   "source": [
    "# Load best model\n",
    "efficientnetv2s_model.load_weights(effv2_model_best_weights_path)\n",
    "efficientnetv2s_model.save(effv2_model_saved_model_path)"
   ]
  },
  {
   "cell_type": "code",
   "execution_count": null,
   "metadata": {},
   "outputs": [],
   "source": [
    "efficientnetv2s_model.evaluate(validation_dataset)\n",
    "\n",
    "log_test_metrics(efficientnetv2s_model, wandb_run)\n",
    "wandb_run.finish()"
   ]
  },
  {
   "cell_type": "code",
   "execution_count": null,
   "metadata": {
    "execution": {
     "iopub.execute_input": "2023-09-09T07:38:00.552998Z",
     "iopub.status.busy": "2023-09-09T07:38:00.552613Z",
     "iopub.status.idle": "2023-09-09T07:38:00.871626Z",
     "shell.execute_reply": "2023-09-09T07:38:00.870425Z",
     "shell.execute_reply.started": "2023-09-09T07:38:00.552963Z"
    }
   },
   "outputs": [],
   "source": [
    "plt.plot(efficientnetv2s_history.history[\"loss\"])\n",
    "plt.plot(efficientnetv2s_history.history[\"val_loss\"])\n",
    "plt.title(\"EfficientNetV2 S Model Loss\")\n",
    "plt.xlabel(\"epoch\")\n",
    "plt.ylabel(\"loss\")\n",
    "plt.legend([\"train_loss\", \"val_loss\"])\n",
    "plt.show()"
   ]
  },
  {
   "cell_type": "code",
   "execution_count": null,
   "metadata": {
    "execution": {
     "iopub.execute_input": "2023-09-09T07:38:00.874041Z",
     "iopub.status.busy": "2023-09-09T07:38:00.873087Z",
     "iopub.status.idle": "2023-09-09T07:38:01.167802Z",
     "shell.execute_reply": "2023-09-09T07:38:01.166682Z",
     "shell.execute_reply.started": "2023-09-09T07:38:00.873991Z"
    }
   },
   "outputs": [],
   "source": [
    "plt.plot(efficientnetv2s_history.history[\"Accuracy\"])\n",
    "plt.plot(efficientnetv2s_history.history[\"val_Accuracy\"])\n",
    "plt.title(\"EfficientNetV2 S Model Accuracy\")\n",
    "plt.xlabel(\"epoch\")\n",
    "plt.ylabel(\"accuracy\")\n",
    "plt.legend([\"train_accuracy\", \"val_accuracy\"])\n",
    "plt.show()"
   ]
  }
 ],
 "metadata": {
  "kernelspec": {
   "display_name": "Python 3",
   "language": "python",
   "name": "python3"
  },
  "language_info": {
   "codemirror_mode": {
    "name": "ipython",
    "version": 3
   },
   "file_extension": ".py",
   "mimetype": "text/x-python",
   "name": "python",
   "nbconvert_exporter": "python",
   "pygments_lexer": "ipython3",
   "version": "3.10.9"
  }
 },
 "nbformat": 4,
 "nbformat_minor": 4
}
