{
 "cells": [
  {
   "cell_type": "code",
   "execution_count": 1,
   "metadata": {},
   "outputs": [
    {
     "data": {
      "application/vnd.jupyter.widget-view+json": {
       "model_id": "2202fbc737574dc1b5ef98b0527bb3aa",
       "version_major": 2,
       "version_minor": 0
      },
      "text/plain": [
       "Fetching 7 files:   0%|          | 0/7 [00:00<?, ?it/s]"
      ]
     },
     "metadata": {},
     "output_type": "display_data"
    },
    {
     "name": "stderr",
     "output_type": "stream",
     "text": [
      "2025-01-07 16:58:06.166882: I metal_plugin/src/device/metal_device.cc:1154] Metal device set to: Apple M2 Max\n",
      "2025-01-07 16:58:06.166914: I metal_plugin/src/device/metal_device.cc:296] systemMemory: 64.00 GB\n",
      "2025-01-07 16:58:06.166926: I metal_plugin/src/device/metal_device.cc:313] maxCacheSize: 24.00 GB\n",
      "2025-01-07 16:58:06.166964: I tensorflow/core/common_runtime/pluggable_device/pluggable_device_factory.cc:306] Could not identify NUMA node of platform GPU ID 0, defaulting to 0. Your kernel may not have been built with NUMA support.\n",
      "2025-01-07 16:58:06.167010: I tensorflow/core/common_runtime/pluggable_device/pluggable_device_factory.cc:272] Created TensorFlow device (/job:localhost/replica:0/task:0/device:GPU:0 with 0 MB memory) -> physical PluggableDevice (device: 0, name: METAL, pci bus id: <undefined>)\n"
     ]
    }
   ],
   "source": [
    "# Write a Simple gradio app to take image as input run a model on it and Returnt the Probability (0 to 1) as a confidence bar\n",
    "\n",
    "import gradio as gr\n",
    "import tensorflow as tf\n",
    "import numpy as np\n",
    "import requests\n",
    "from PIL import Image\n",
    "from io import BytesIO\n",
    "\n",
    "from huggingface_hub import from_pretrained_keras\n",
    "\n",
    "REPO_ID = \"ai-or-not/ai-or-not-model\"\n",
    "\n",
    "model = from_pretrained_keras(REPO_ID)"
   ]
  },
  {
   "cell_type": "code",
   "execution_count": null,
   "metadata": {},
   "outputs": [],
   "source": [
    "# # Define the function\n",
    "# def classify_image(array):\n",
    "#     # image is numpy array\n",
    "#     array = array / 255.0\n",
    "#     image = tf.image.resize_with_pad(array, 224, 224)\n",
    "#     image = np.expand_dims(image, axis=0)\n",
    "#     print(image.shape)\n",
    "#     prediction = model(image)\n",
    "#     # there are 3 class probabilities in the model 0: \"REAL\", 1: \"GAN\", 2: \"DIFFUSION\"\n",
    "#     real = prediction[0][0]\n",
    "#     ai =  1 - real\n",
    "\n",
    "#     return {\"REAL\": real, \"AI\": ai}\n",
    "\n",
    "\n",
    "# demo = gr.Interface(fn=classify_image, inputs=\"image\", outputs=\"label\", examples=\"examples\")\n",
    "# demo.launch(\n",
    "#     debug=True,\n",
    "# )"
   ]
  },
  {
   "cell_type": "code",
   "execution_count": 4,
   "metadata": {},
   "outputs": [
    {
     "name": "stderr",
     "output_type": "stream",
     "text": [
      "No files have been modified since last commit. Skipping to prevent empty commit.\n",
      "No files have been modified since last commit. Skipping to prevent empty commit.\n"
     ]
    }
   ],
   "source": [
    "from huggingface_hub import (\n",
    "    create_repo,\n",
    "    get_full_repo_name,\n",
    "    upload_file,\n",
    "    upload_folder,\n",
    "    add_space_secret\n",
    ")\n",
    "\n",
    "target_space_name = \"ai-or-not-demo\"\n",
    "create_repo(\n",
    "    repo_id=target_space_name, \n",
    "    private= True,\n",
    "    repo_type=\"space\", \n",
    "    space_sdk=\"gradio\",\n",
    "    exist_ok=True\n",
    ")\n",
    "\n",
    "repo_name = get_full_repo_name(model_id=target_space_name)\n",
    "\n",
    "examples = upload_folder(\n",
    "    folder_path=\"examples\",\n",
    "    path_in_repo=\"examples\",\n",
    "    repo_id=repo_name,\n",
    "    repo_type=\"space\"\n",
    ")\n",
    "\n",
    "file_url = upload_file(\n",
    "    path_or_fileobj=\"requirements.txt\",\n",
    "    path_in_repo=\"requirements.txt\",\n",
    "    repo_id=repo_name,\n",
    "    repo_type=\"space\"\n",
    ")\n",
    "\n",
    "file_url = upload_file(\n",
    "    path_or_fileobj=\"app.py\",\n",
    "    path_in_repo=\"app.py\",\n",
    "    repo_id=repo_name,\n",
    "    repo_type=\"space\"\n",
    ")"
   ]
  }
 ],
 "metadata": {
  "kernelspec": {
   "display_name": "discovery_env",
   "language": "python",
   "name": "python3"
  },
  "language_info": {
   "codemirror_mode": {
    "name": "ipython",
    "version": 3
   },
   "file_extension": ".py",
   "mimetype": "text/x-python",
   "name": "python",
   "nbconvert_exporter": "python",
   "pygments_lexer": "ipython3",
   "version": "3.10.9"
  }
 },
 "nbformat": 4,
 "nbformat_minor": 2
}
