{
 "cells": [
  {
   "cell_type": "code",
   "execution_count": null,
   "metadata": {},
   "outputs": [],
   "source": [
    "# Write a Simple gradio app to take image as input run a model on it and Returnt the Probability (0 to 1) as a confidence bar\n",
    "\n",
    "from io import BytesIO\n",
    "\n",
    "import gradio as gr\n",
    "import numpy as np\n",
    "import requests\n",
    "import tensorflow as tf\n",
    "from huggingface_hub import create_repo, from_pretrained_keras, get_full_repo_name, upload_file, upload_folder\n",
    "from PIL import Image\n",
    "\n",
    "SPACE_NAME = \"ai-or-not-demo\""
   ]
  },
  {
   "cell_type": "code",
   "execution_count": null,
   "metadata": {},
   "outputs": [],
   "source": [
    "create_repo(repo_id=SPACE_NAME, private=True, repo_type=\"space\", space_sdk=\"gradio\", exist_ok=True)\n",
    "\n",
    "repo_id = get_full_repo_name(model_id=SPACE_NAME)\n",
    "\n",
    "print(f\"Repo: {repo_id}\")\n",
    "examples = upload_folder(folder_path=\"examples\", path_in_repo=\"examples\", repo_id=repo_id, repo_type=\"space\")\n",
    "\n",
    "file_url = upload_file(\n",
    "    path_or_fileobj=\"requirements.txt\", path_in_repo=\"requirements.txt\", repo_id=repo_id, repo_type=\"space\"\n",
    ")\n",
    "\n",
    "file_url = upload_file(path_or_fileobj=\"app.py\", path_in_repo=\"app.py\", repo_id=repo_id, repo_type=\"space\")"
   ]
  }
 ],
 "metadata": {
  "kernelspec": {
   "display_name": "discovery_env",
   "language": "python",
   "name": "python3"
  },
  "language_info": {
   "codemirror_mode": {
    "name": "ipython",
    "version": 3
   },
   "file_extension": ".py",
   "mimetype": "text/x-python",
   "name": "python",
   "nbconvert_exporter": "python",
   "pygments_lexer": "ipython3",
   "version": "3.10.9"
  }
 },
 "nbformat": 4,
 "nbformat_minor": 2
}
